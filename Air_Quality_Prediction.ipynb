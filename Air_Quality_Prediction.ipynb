{
  "nbformat": 4,
  "nbformat_minor": 0,
  "metadata": {
    "colab": {
      "provenance": []
    },
    "kernelspec": {
      "name": "python3",
      "display_name": "Python 3"
    },
    "language_info": {
      "name": "python"
    }
  },
  "cells": [
    {
      "cell_type": "markdown",
      "source": [
        "# Air Quality Prediction Project"
      ],
      "metadata": {
        "id": "r_X7Y1z-z_UL"
      }
    },
    {
      "cell_type": "markdown",
      "source": [
        "The objective of this project is to predict PM2.5 particulate matter concentration in the air for some locations in Uganda.\n",
        "\n",
        "PM2.5 refers to atmospheric particulate matter that has a diameter of less than 2.5 micrometers and is one of the most harmful air pollutants. \n",
        "\n",
        "PM2.5 is a common measure of air quality that normally requires ground-based sensors to measure."
      ],
      "metadata": {
        "id": "vhaPImPo0nI7"
      }
    },
    {
      "cell_type": "code",
      "source": [
        "!pip install numpy \n",
        "!pip install seaborn \n",
        "!pip install panda \n",
        "!pip install matplotlib"
      ],
      "metadata": {
        "colab": {
          "base_uri": "https://localhost:8080/"
        },
        "id": "tmBJg0E4KuGe",
        "outputId": "893b1918-2332-4d86-bace-0143f02d56b2"
      },
      "execution_count": null,
      "outputs": [
        {
          "output_type": "stream",
          "name": "stdout",
          "text": [
            "Looking in indexes: https://pypi.org/simple, https://us-python.pkg.dev/colab-wheels/public/simple/\n",
            "Requirement already satisfied: numpy in /usr/local/lib/python3.7/dist-packages (1.21.6)\n",
            "Looking in indexes: https://pypi.org/simple, https://us-python.pkg.dev/colab-wheels/public/simple/\n",
            "Requirement already satisfied: seaborn in /usr/local/lib/python3.7/dist-packages (0.11.2)\n",
            "Requirement already satisfied: pandas>=0.23 in /usr/local/lib/python3.7/dist-packages (from seaborn) (1.3.5)\n",
            "Requirement already satisfied: scipy>=1.0 in /usr/local/lib/python3.7/dist-packages (from seaborn) (1.7.3)\n",
            "Requirement already satisfied: numpy>=1.15 in /usr/local/lib/python3.7/dist-packages (from seaborn) (1.21.6)\n",
            "Requirement already satisfied: matplotlib>=2.2 in /usr/local/lib/python3.7/dist-packages (from seaborn) (3.2.2)\n",
            "Requirement already satisfied: python-dateutil>=2.1 in /usr/local/lib/python3.7/dist-packages (from matplotlib>=2.2->seaborn) (2.8.2)\n",
            "Requirement already satisfied: cycler>=0.10 in /usr/local/lib/python3.7/dist-packages (from matplotlib>=2.2->seaborn) (0.11.0)\n",
            "Requirement already satisfied: pyparsing!=2.0.4,!=2.1.2,!=2.1.6,>=2.0.1 in /usr/local/lib/python3.7/dist-packages (from matplotlib>=2.2->seaborn) (3.0.9)\n",
            "Requirement already satisfied: kiwisolver>=1.0.1 in /usr/local/lib/python3.7/dist-packages (from matplotlib>=2.2->seaborn) (1.4.4)\n",
            "Requirement already satisfied: typing-extensions in /usr/local/lib/python3.7/dist-packages (from kiwisolver>=1.0.1->matplotlib>=2.2->seaborn) (4.1.1)\n",
            "Requirement already satisfied: pytz>=2017.3 in /usr/local/lib/python3.7/dist-packages (from pandas>=0.23->seaborn) (2022.2.1)\n",
            "Requirement already satisfied: six>=1.5 in /usr/local/lib/python3.7/dist-packages (from python-dateutil>=2.1->matplotlib>=2.2->seaborn) (1.15.0)\n",
            "Looking in indexes: https://pypi.org/simple, https://us-python.pkg.dev/colab-wheels/public/simple/\n",
            "Requirement already satisfied: panda in /usr/local/lib/python3.7/dist-packages (0.3.1)\n",
            "Requirement already satisfied: setuptools in /usr/local/lib/python3.7/dist-packages (from panda) (57.4.0)\n",
            "Requirement already satisfied: requests in /usr/local/lib/python3.7/dist-packages (from panda) (2.23.0)\n",
            "Requirement already satisfied: chardet<4,>=3.0.2 in /usr/local/lib/python3.7/dist-packages (from requests->panda) (3.0.4)\n",
            "Requirement already satisfied: urllib3!=1.25.0,!=1.25.1,<1.26,>=1.21.1 in /usr/local/lib/python3.7/dist-packages (from requests->panda) (1.24.3)\n",
            "Requirement already satisfied: idna<3,>=2.5 in /usr/local/lib/python3.7/dist-packages (from requests->panda) (2.10)\n",
            "Requirement already satisfied: certifi>=2017.4.17 in /usr/local/lib/python3.7/dist-packages (from requests->panda) (2022.6.15)\n",
            "Looking in indexes: https://pypi.org/simple, https://us-python.pkg.dev/colab-wheels/public/simple/\n",
            "Requirement already satisfied: matplotlib in /usr/local/lib/python3.7/dist-packages (3.2.2)\n",
            "Requirement already satisfied: cycler>=0.10 in /usr/local/lib/python3.7/dist-packages (from matplotlib) (0.11.0)\n",
            "Requirement already satisfied: kiwisolver>=1.0.1 in /usr/local/lib/python3.7/dist-packages (from matplotlib) (1.4.4)\n",
            "Requirement already satisfied: python-dateutil>=2.1 in /usr/local/lib/python3.7/dist-packages (from matplotlib) (2.8.2)\n",
            "Requirement already satisfied: numpy>=1.11 in /usr/local/lib/python3.7/dist-packages (from matplotlib) (1.21.6)\n",
            "Requirement already satisfied: pyparsing!=2.0.4,!=2.1.2,!=2.1.6,>=2.0.1 in /usr/local/lib/python3.7/dist-packages (from matplotlib) (3.0.9)\n",
            "Requirement already satisfied: typing-extensions in /usr/local/lib/python3.7/dist-packages (from kiwisolver>=1.0.1->matplotlib) (4.1.1)\n",
            "Requirement already satisfied: six>=1.5 in /usr/local/lib/python3.7/dist-packages (from python-dateutil>=2.1->matplotlib) (1.15.0)\n"
          ]
        }
      ]
    },
    {
      "cell_type": "code",
      "execution_count": null,
      "metadata": {
        "id": "fOkR8iGHKf1i"
      },
      "outputs": [],
      "source": [
        "# load the packages\n",
        "\n",
        "import pandas as pd \n",
        "import matplotlib.pyplot as plt \n",
        "import numpy as np \n",
        "import seaborn as sns"
      ]
    },
    {
      "cell_type": "code",
      "source": [
        "data = pd.read_csv('train.csv')"
      ],
      "metadata": {
        "id": "uzEko4c-K6vM"
      },
      "execution_count": null,
      "outputs": []
    },
    {
      "cell_type": "code",
      "source": [
        "data.head()"
      ],
      "metadata": {
        "colab": {
          "base_uri": "https://localhost:8080/",
          "height": 386
        },
        "id": "tHl0tT0MLbca",
        "outputId": "cc4e5a21-fed5-4875-a405-aaa312163d87"
      },
      "execution_count": null,
      "outputs": [
        {
          "output_type": "execute_result",
          "data": {
            "text/plain": [
              "              ID        date    device  site_latitude  site_longitude  \\\n",
              "0  ID_JBYXJEUZ8X  2020-03-18  ANQ16PZJ       0.353465       32.560322   \n",
              "1  ID_PEJJNLBUPR  2019-10-13  AB6051M4       0.390741       32.582257   \n",
              "2  ID_21L8UZQO1T  2019-12-21  A0WN66FH       0.285751       32.578325   \n",
              "3  ID_GNW2G8J4T8  2020-02-20     aq_41      -1.244985       29.989236   \n",
              "4  ID_4XOX2V6SK0  2019-04-17     aq_41      -1.244985       29.989236   \n",
              "\n",
              "   humidity  temp_mean  SulphurDioxide_SO2_column_number_density  \\\n",
              "0  0.846844  22.038542                                 -0.000138   \n",
              "1  0.874493  21.545833                                       NaN   \n",
              "2  0.729340  23.568655                                       NaN   \n",
              "3  0.919271  16.338542                                 -0.000111   \n",
              "4  0.858365  16.602083                                 -0.000127   \n",
              "\n",
              "   SulphurDioxide_SO2_column_number_density_amf  \\\n",
              "0                                      1.042629   \n",
              "1                                           NaN   \n",
              "2                                           NaN   \n",
              "3                                      0.750228   \n",
              "4                                      0.792634   \n",
              "\n",
              "   SulphurDioxide_SO2_slant_column_number_density  ...  \\\n",
              "0                                       -0.000143  ...   \n",
              "1                                             NaN  ...   \n",
              "2                                             NaN  ...   \n",
              "3                                       -0.000083  ...   \n",
              "4                                       -0.000101  ...   \n",
              "\n",
              "   Cloud_cloud_top_height  Cloud_cloud_base_pressure  Cloud_cloud_base_height  \\\n",
              "0             4181.792969               69589.453125              3181.793457   \n",
              "1                     NaN                        NaN                      NaN   \n",
              "2             4440.391113               67341.109375              3440.390869   \n",
              "3                     NaN                        NaN                      NaN   \n",
              "4             4842.057488               64347.788635              3842.057585   \n",
              "\n",
              "   Cloud_cloud_optical_depth  Cloud_surface_albedo  \\\n",
              "0                   7.799846              0.278111   \n",
              "1                        NaN                   NaN   \n",
              "2                  62.496590              0.416631   \n",
              "3                        NaN                   NaN   \n",
              "4                   4.971117              0.277157   \n",
              "\n",
              "   Cloud_sensor_azimuth_angle  Cloud_sensor_zenith_angle  \\\n",
              "0                   76.618553                   9.970293   \n",
              "1                         NaN                        NaN   \n",
              "2                  -97.300758                  63.690605   \n",
              "3                         NaN                        NaN   \n",
              "4                   74.786025                  32.583070   \n",
              "\n",
              "   Cloud_solar_azimuth_angle  Cloud_solar_zenith_angle      pm2_5  \n",
              "0                 -93.110069                 19.214193  63.853333  \n",
              "1                        NaN                       NaN  32.507083  \n",
              "2                -127.856804                 40.857922  80.290833  \n",
              "3                        NaN                       NaN  42.601687  \n",
              "4                 -57.273638                 21.864529  89.642229  \n",
              "\n",
              "[5 rows x 71 columns]"
            ],
            "text/html": [
              "\n",
              "  <div id=\"df-9e97a947-ab55-4f7b-a667-a7abf6131e6b\">\n",
              "    <div class=\"colab-df-container\">\n",
              "      <div>\n",
              "<style scoped>\n",
              "    .dataframe tbody tr th:only-of-type {\n",
              "        vertical-align: middle;\n",
              "    }\n",
              "\n",
              "    .dataframe tbody tr th {\n",
              "        vertical-align: top;\n",
              "    }\n",
              "\n",
              "    .dataframe thead th {\n",
              "        text-align: right;\n",
              "    }\n",
              "</style>\n",
              "<table border=\"1\" class=\"dataframe\">\n",
              "  <thead>\n",
              "    <tr style=\"text-align: right;\">\n",
              "      <th></th>\n",
              "      <th>ID</th>\n",
              "      <th>date</th>\n",
              "      <th>device</th>\n",
              "      <th>site_latitude</th>\n",
              "      <th>site_longitude</th>\n",
              "      <th>humidity</th>\n",
              "      <th>temp_mean</th>\n",
              "      <th>SulphurDioxide_SO2_column_number_density</th>\n",
              "      <th>SulphurDioxide_SO2_column_number_density_amf</th>\n",
              "      <th>SulphurDioxide_SO2_slant_column_number_density</th>\n",
              "      <th>...</th>\n",
              "      <th>Cloud_cloud_top_height</th>\n",
              "      <th>Cloud_cloud_base_pressure</th>\n",
              "      <th>Cloud_cloud_base_height</th>\n",
              "      <th>Cloud_cloud_optical_depth</th>\n",
              "      <th>Cloud_surface_albedo</th>\n",
              "      <th>Cloud_sensor_azimuth_angle</th>\n",
              "      <th>Cloud_sensor_zenith_angle</th>\n",
              "      <th>Cloud_solar_azimuth_angle</th>\n",
              "      <th>Cloud_solar_zenith_angle</th>\n",
              "      <th>pm2_5</th>\n",
              "    </tr>\n",
              "  </thead>\n",
              "  <tbody>\n",
              "    <tr>\n",
              "      <th>0</th>\n",
              "      <td>ID_JBYXJEUZ8X</td>\n",
              "      <td>2020-03-18</td>\n",
              "      <td>ANQ16PZJ</td>\n",
              "      <td>0.353465</td>\n",
              "      <td>32.560322</td>\n",
              "      <td>0.846844</td>\n",
              "      <td>22.038542</td>\n",
              "      <td>-0.000138</td>\n",
              "      <td>1.042629</td>\n",
              "      <td>-0.000143</td>\n",
              "      <td>...</td>\n",
              "      <td>4181.792969</td>\n",
              "      <td>69589.453125</td>\n",
              "      <td>3181.793457</td>\n",
              "      <td>7.799846</td>\n",
              "      <td>0.278111</td>\n",
              "      <td>76.618553</td>\n",
              "      <td>9.970293</td>\n",
              "      <td>-93.110069</td>\n",
              "      <td>19.214193</td>\n",
              "      <td>63.853333</td>\n",
              "    </tr>\n",
              "    <tr>\n",
              "      <th>1</th>\n",
              "      <td>ID_PEJJNLBUPR</td>\n",
              "      <td>2019-10-13</td>\n",
              "      <td>AB6051M4</td>\n",
              "      <td>0.390741</td>\n",
              "      <td>32.582257</td>\n",
              "      <td>0.874493</td>\n",
              "      <td>21.545833</td>\n",
              "      <td>NaN</td>\n",
              "      <td>NaN</td>\n",
              "      <td>NaN</td>\n",
              "      <td>...</td>\n",
              "      <td>NaN</td>\n",
              "      <td>NaN</td>\n",
              "      <td>NaN</td>\n",
              "      <td>NaN</td>\n",
              "      <td>NaN</td>\n",
              "      <td>NaN</td>\n",
              "      <td>NaN</td>\n",
              "      <td>NaN</td>\n",
              "      <td>NaN</td>\n",
              "      <td>32.507083</td>\n",
              "    </tr>\n",
              "    <tr>\n",
              "      <th>2</th>\n",
              "      <td>ID_21L8UZQO1T</td>\n",
              "      <td>2019-12-21</td>\n",
              "      <td>A0WN66FH</td>\n",
              "      <td>0.285751</td>\n",
              "      <td>32.578325</td>\n",
              "      <td>0.729340</td>\n",
              "      <td>23.568655</td>\n",
              "      <td>NaN</td>\n",
              "      <td>NaN</td>\n",
              "      <td>NaN</td>\n",
              "      <td>...</td>\n",
              "      <td>4440.391113</td>\n",
              "      <td>67341.109375</td>\n",
              "      <td>3440.390869</td>\n",
              "      <td>62.496590</td>\n",
              "      <td>0.416631</td>\n",
              "      <td>-97.300758</td>\n",
              "      <td>63.690605</td>\n",
              "      <td>-127.856804</td>\n",
              "      <td>40.857922</td>\n",
              "      <td>80.290833</td>\n",
              "    </tr>\n",
              "    <tr>\n",
              "      <th>3</th>\n",
              "      <td>ID_GNW2G8J4T8</td>\n",
              "      <td>2020-02-20</td>\n",
              "      <td>aq_41</td>\n",
              "      <td>-1.244985</td>\n",
              "      <td>29.989236</td>\n",
              "      <td>0.919271</td>\n",
              "      <td>16.338542</td>\n",
              "      <td>-0.000111</td>\n",
              "      <td>0.750228</td>\n",
              "      <td>-0.000083</td>\n",
              "      <td>...</td>\n",
              "      <td>NaN</td>\n",
              "      <td>NaN</td>\n",
              "      <td>NaN</td>\n",
              "      <td>NaN</td>\n",
              "      <td>NaN</td>\n",
              "      <td>NaN</td>\n",
              "      <td>NaN</td>\n",
              "      <td>NaN</td>\n",
              "      <td>NaN</td>\n",
              "      <td>42.601687</td>\n",
              "    </tr>\n",
              "    <tr>\n",
              "      <th>4</th>\n",
              "      <td>ID_4XOX2V6SK0</td>\n",
              "      <td>2019-04-17</td>\n",
              "      <td>aq_41</td>\n",
              "      <td>-1.244985</td>\n",
              "      <td>29.989236</td>\n",
              "      <td>0.858365</td>\n",
              "      <td>16.602083</td>\n",
              "      <td>-0.000127</td>\n",
              "      <td>0.792634</td>\n",
              "      <td>-0.000101</td>\n",
              "      <td>...</td>\n",
              "      <td>4842.057488</td>\n",
              "      <td>64347.788635</td>\n",
              "      <td>3842.057585</td>\n",
              "      <td>4.971117</td>\n",
              "      <td>0.277157</td>\n",
              "      <td>74.786025</td>\n",
              "      <td>32.583070</td>\n",
              "      <td>-57.273638</td>\n",
              "      <td>21.864529</td>\n",
              "      <td>89.642229</td>\n",
              "    </tr>\n",
              "  </tbody>\n",
              "</table>\n",
              "<p>5 rows × 71 columns</p>\n",
              "</div>\n",
              "      <button class=\"colab-df-convert\" onclick=\"convertToInteractive('df-9e97a947-ab55-4f7b-a667-a7abf6131e6b')\"\n",
              "              title=\"Convert this dataframe to an interactive table.\"\n",
              "              style=\"display:none;\">\n",
              "        \n",
              "  <svg xmlns=\"http://www.w3.org/2000/svg\" height=\"24px\"viewBox=\"0 0 24 24\"\n",
              "       width=\"24px\">\n",
              "    <path d=\"M0 0h24v24H0V0z\" fill=\"none\"/>\n",
              "    <path d=\"M18.56 5.44l.94 2.06.94-2.06 2.06-.94-2.06-.94-.94-2.06-.94 2.06-2.06.94zm-11 1L8.5 8.5l.94-2.06 2.06-.94-2.06-.94L8.5 2.5l-.94 2.06-2.06.94zm10 10l.94 2.06.94-2.06 2.06-.94-2.06-.94-.94-2.06-.94 2.06-2.06.94z\"/><path d=\"M17.41 7.96l-1.37-1.37c-.4-.4-.92-.59-1.43-.59-.52 0-1.04.2-1.43.59L10.3 9.45l-7.72 7.72c-.78.78-.78 2.05 0 2.83L4 21.41c.39.39.9.59 1.41.59.51 0 1.02-.2 1.41-.59l7.78-7.78 2.81-2.81c.8-.78.8-2.07 0-2.86zM5.41 20L4 18.59l7.72-7.72 1.47 1.35L5.41 20z\"/>\n",
              "  </svg>\n",
              "      </button>\n",
              "      \n",
              "  <style>\n",
              "    .colab-df-container {\n",
              "      display:flex;\n",
              "      flex-wrap:wrap;\n",
              "      gap: 12px;\n",
              "    }\n",
              "\n",
              "    .colab-df-convert {\n",
              "      background-color: #E8F0FE;\n",
              "      border: none;\n",
              "      border-radius: 50%;\n",
              "      cursor: pointer;\n",
              "      display: none;\n",
              "      fill: #1967D2;\n",
              "      height: 32px;\n",
              "      padding: 0 0 0 0;\n",
              "      width: 32px;\n",
              "    }\n",
              "\n",
              "    .colab-df-convert:hover {\n",
              "      background-color: #E2EBFA;\n",
              "      box-shadow: 0px 1px 2px rgba(60, 64, 67, 0.3), 0px 1px 3px 1px rgba(60, 64, 67, 0.15);\n",
              "      fill: #174EA6;\n",
              "    }\n",
              "\n",
              "    [theme=dark] .colab-df-convert {\n",
              "      background-color: #3B4455;\n",
              "      fill: #D2E3FC;\n",
              "    }\n",
              "\n",
              "    [theme=dark] .colab-df-convert:hover {\n",
              "      background-color: #434B5C;\n",
              "      box-shadow: 0px 1px 3px 1px rgba(0, 0, 0, 0.15);\n",
              "      filter: drop-shadow(0px 1px 2px rgba(0, 0, 0, 0.3));\n",
              "      fill: #FFFFFF;\n",
              "    }\n",
              "  </style>\n",
              "\n",
              "      <script>\n",
              "        const buttonEl =\n",
              "          document.querySelector('#df-9e97a947-ab55-4f7b-a667-a7abf6131e6b button.colab-df-convert');\n",
              "        buttonEl.style.display =\n",
              "          google.colab.kernel.accessAllowed ? 'block' : 'none';\n",
              "\n",
              "        async function convertToInteractive(key) {\n",
              "          const element = document.querySelector('#df-9e97a947-ab55-4f7b-a667-a7abf6131e6b');\n",
              "          const dataTable =\n",
              "            await google.colab.kernel.invokeFunction('convertToInteractive',\n",
              "                                                     [key], {});\n",
              "          if (!dataTable) return;\n",
              "\n",
              "          const docLinkHtml = 'Like what you see? Visit the ' +\n",
              "            '<a target=\"_blank\" href=https://colab.research.google.com/notebooks/data_table.ipynb>data table notebook</a>'\n",
              "            + ' to learn more about interactive tables.';\n",
              "          element.innerHTML = '';\n",
              "          dataTable['output_type'] = 'display_data';\n",
              "          await google.colab.output.renderOutput(dataTable, element);\n",
              "          const docLink = document.createElement('div');\n",
              "          docLink.innerHTML = docLinkHtml;\n",
              "          element.appendChild(docLink);\n",
              "        }\n",
              "      </script>\n",
              "    </div>\n",
              "  </div>\n",
              "  "
            ]
          },
          "metadata": {},
          "execution_count": 35
        }
      ]
    },
    {
      "cell_type": "code",
      "source": [
        "data.tail()"
      ],
      "metadata": {
        "colab": {
          "base_uri": "https://localhost:8080/",
          "height": 386
        },
        "id": "Zx1hLiXALdkn",
        "outputId": "6d918710-5af0-4fc9-82d7-29014ea8b342"
      },
      "execution_count": null,
      "outputs": [
        {
          "output_type": "execute_result",
          "data": {
            "text/plain": [
              "                  ID        date    device  site_latitude  site_longitude  \\\n",
              "11131  ID_E2O117AYG3  2020-07-20  APZ80RTM       0.306666       32.608550   \n",
              "11132  ID_8CJG37XAYN  2020-02-23     aq_60       0.307780       32.651449   \n",
              "11133  ID_NTRI2J528O  2020-04-17  AJCK5L86       0.343898       32.587226   \n",
              "11134  ID_IBH41YUMOZ  2020-06-08     aq_76       0.357987       32.584100   \n",
              "11135  ID_44EJBIBS7D  2019-10-30     aq_46       0.298750       32.615000   \n",
              "\n",
              "       humidity  temp_mean  SulphurDioxide_SO2_column_number_density  \\\n",
              "11131  0.736872  22.965972                                       NaN   \n",
              "11132  0.721721  26.555392                                 -0.000684   \n",
              "11133  0.810413  22.915625                                       NaN   \n",
              "11134  0.876437  21.258333                                       NaN   \n",
              "11135  0.868209  22.238333                                       NaN   \n",
              "\n",
              "       SulphurDioxide_SO2_column_number_density_amf  \\\n",
              "11131                                           NaN   \n",
              "11132                                       0.41426   \n",
              "11133                                           NaN   \n",
              "11134                                           NaN   \n",
              "11135                                           NaN   \n",
              "\n",
              "       SulphurDioxide_SO2_slant_column_number_density  ...  \\\n",
              "11131                                             NaN  ...   \n",
              "11132                                       -0.000283  ...   \n",
              "11133                                             NaN  ...   \n",
              "11134                                             NaN  ...   \n",
              "11135                                             NaN  ...   \n",
              "\n",
              "       Cloud_cloud_top_height  Cloud_cloud_base_pressure  \\\n",
              "11131             7156.016834               48356.941077   \n",
              "11132            13266.058594               20344.134766   \n",
              "11133             7754.737305               44284.785156   \n",
              "11134             6357.190430               53044.425781   \n",
              "11135             5046.156250               62448.808594   \n",
              "\n",
              "       Cloud_cloud_base_height  Cloud_cloud_optical_depth  \\\n",
              "11131              6156.016834                   3.419584   \n",
              "11132             12266.058594                  10.198909   \n",
              "11133              6754.737305                   5.724823   \n",
              "11134              5357.190430                  49.711514   \n",
              "11135              4046.156494                  12.753333   \n",
              "\n",
              "       Cloud_surface_albedo  Cloud_sensor_azimuth_angle  \\\n",
              "11131              0.235853                   72.847686   \n",
              "11132              0.284046                  -97.272919   \n",
              "11133              0.299491                  -98.203743   \n",
              "11134              0.279414                   71.634727   \n",
              "11135              0.295881                  -99.703812   \n",
              "\n",
              "       Cloud_sensor_zenith_angle  Cloud_solar_azimuth_angle  \\\n",
              "11131                  50.858546                 -31.908548   \n",
              "11132                  64.089607                -109.482361   \n",
              "11133                  53.532288                 -70.173080   \n",
              "11134                  61.877548                 -26.566027   \n",
              "11135                  37.296741                -115.526276   \n",
              "\n",
              "       Cloud_solar_zenith_angle      pm2_5  \n",
              "11131                 24.023105  69.690417  \n",
              "11132                 32.003708  47.470518  \n",
              "11133                 32.261959  43.237917  \n",
              "11134                 25.409733  25.599925  \n",
              "11135                 34.218605  27.089820  \n",
              "\n",
              "[5 rows x 71 columns]"
            ],
            "text/html": [
              "\n",
              "  <div id=\"df-178fb103-e82c-4937-90cb-07f3b97e10dc\">\n",
              "    <div class=\"colab-df-container\">\n",
              "      <div>\n",
              "<style scoped>\n",
              "    .dataframe tbody tr th:only-of-type {\n",
              "        vertical-align: middle;\n",
              "    }\n",
              "\n",
              "    .dataframe tbody tr th {\n",
              "        vertical-align: top;\n",
              "    }\n",
              "\n",
              "    .dataframe thead th {\n",
              "        text-align: right;\n",
              "    }\n",
              "</style>\n",
              "<table border=\"1\" class=\"dataframe\">\n",
              "  <thead>\n",
              "    <tr style=\"text-align: right;\">\n",
              "      <th></th>\n",
              "      <th>ID</th>\n",
              "      <th>date</th>\n",
              "      <th>device</th>\n",
              "      <th>site_latitude</th>\n",
              "      <th>site_longitude</th>\n",
              "      <th>humidity</th>\n",
              "      <th>temp_mean</th>\n",
              "      <th>SulphurDioxide_SO2_column_number_density</th>\n",
              "      <th>SulphurDioxide_SO2_column_number_density_amf</th>\n",
              "      <th>SulphurDioxide_SO2_slant_column_number_density</th>\n",
              "      <th>...</th>\n",
              "      <th>Cloud_cloud_top_height</th>\n",
              "      <th>Cloud_cloud_base_pressure</th>\n",
              "      <th>Cloud_cloud_base_height</th>\n",
              "      <th>Cloud_cloud_optical_depth</th>\n",
              "      <th>Cloud_surface_albedo</th>\n",
              "      <th>Cloud_sensor_azimuth_angle</th>\n",
              "      <th>Cloud_sensor_zenith_angle</th>\n",
              "      <th>Cloud_solar_azimuth_angle</th>\n",
              "      <th>Cloud_solar_zenith_angle</th>\n",
              "      <th>pm2_5</th>\n",
              "    </tr>\n",
              "  </thead>\n",
              "  <tbody>\n",
              "    <tr>\n",
              "      <th>11131</th>\n",
              "      <td>ID_E2O117AYG3</td>\n",
              "      <td>2020-07-20</td>\n",
              "      <td>APZ80RTM</td>\n",
              "      <td>0.306666</td>\n",
              "      <td>32.608550</td>\n",
              "      <td>0.736872</td>\n",
              "      <td>22.965972</td>\n",
              "      <td>NaN</td>\n",
              "      <td>NaN</td>\n",
              "      <td>NaN</td>\n",
              "      <td>...</td>\n",
              "      <td>7156.016834</td>\n",
              "      <td>48356.941077</td>\n",
              "      <td>6156.016834</td>\n",
              "      <td>3.419584</td>\n",
              "      <td>0.235853</td>\n",
              "      <td>72.847686</td>\n",
              "      <td>50.858546</td>\n",
              "      <td>-31.908548</td>\n",
              "      <td>24.023105</td>\n",
              "      <td>69.690417</td>\n",
              "    </tr>\n",
              "    <tr>\n",
              "      <th>11132</th>\n",
              "      <td>ID_8CJG37XAYN</td>\n",
              "      <td>2020-02-23</td>\n",
              "      <td>aq_60</td>\n",
              "      <td>0.307780</td>\n",
              "      <td>32.651449</td>\n",
              "      <td>0.721721</td>\n",
              "      <td>26.555392</td>\n",
              "      <td>-0.000684</td>\n",
              "      <td>0.41426</td>\n",
              "      <td>-0.000283</td>\n",
              "      <td>...</td>\n",
              "      <td>13266.058594</td>\n",
              "      <td>20344.134766</td>\n",
              "      <td>12266.058594</td>\n",
              "      <td>10.198909</td>\n",
              "      <td>0.284046</td>\n",
              "      <td>-97.272919</td>\n",
              "      <td>64.089607</td>\n",
              "      <td>-109.482361</td>\n",
              "      <td>32.003708</td>\n",
              "      <td>47.470518</td>\n",
              "    </tr>\n",
              "    <tr>\n",
              "      <th>11133</th>\n",
              "      <td>ID_NTRI2J528O</td>\n",
              "      <td>2020-04-17</td>\n",
              "      <td>AJCK5L86</td>\n",
              "      <td>0.343898</td>\n",
              "      <td>32.587226</td>\n",
              "      <td>0.810413</td>\n",
              "      <td>22.915625</td>\n",
              "      <td>NaN</td>\n",
              "      <td>NaN</td>\n",
              "      <td>NaN</td>\n",
              "      <td>...</td>\n",
              "      <td>7754.737305</td>\n",
              "      <td>44284.785156</td>\n",
              "      <td>6754.737305</td>\n",
              "      <td>5.724823</td>\n",
              "      <td>0.299491</td>\n",
              "      <td>-98.203743</td>\n",
              "      <td>53.532288</td>\n",
              "      <td>-70.173080</td>\n",
              "      <td>32.261959</td>\n",
              "      <td>43.237917</td>\n",
              "    </tr>\n",
              "    <tr>\n",
              "      <th>11134</th>\n",
              "      <td>ID_IBH41YUMOZ</td>\n",
              "      <td>2020-06-08</td>\n",
              "      <td>aq_76</td>\n",
              "      <td>0.357987</td>\n",
              "      <td>32.584100</td>\n",
              "      <td>0.876437</td>\n",
              "      <td>21.258333</td>\n",
              "      <td>NaN</td>\n",
              "      <td>NaN</td>\n",
              "      <td>NaN</td>\n",
              "      <td>...</td>\n",
              "      <td>6357.190430</td>\n",
              "      <td>53044.425781</td>\n",
              "      <td>5357.190430</td>\n",
              "      <td>49.711514</td>\n",
              "      <td>0.279414</td>\n",
              "      <td>71.634727</td>\n",
              "      <td>61.877548</td>\n",
              "      <td>-26.566027</td>\n",
              "      <td>25.409733</td>\n",
              "      <td>25.599925</td>\n",
              "    </tr>\n",
              "    <tr>\n",
              "      <th>11135</th>\n",
              "      <td>ID_44EJBIBS7D</td>\n",
              "      <td>2019-10-30</td>\n",
              "      <td>aq_46</td>\n",
              "      <td>0.298750</td>\n",
              "      <td>32.615000</td>\n",
              "      <td>0.868209</td>\n",
              "      <td>22.238333</td>\n",
              "      <td>NaN</td>\n",
              "      <td>NaN</td>\n",
              "      <td>NaN</td>\n",
              "      <td>...</td>\n",
              "      <td>5046.156250</td>\n",
              "      <td>62448.808594</td>\n",
              "      <td>4046.156494</td>\n",
              "      <td>12.753333</td>\n",
              "      <td>0.295881</td>\n",
              "      <td>-99.703812</td>\n",
              "      <td>37.296741</td>\n",
              "      <td>-115.526276</td>\n",
              "      <td>34.218605</td>\n",
              "      <td>27.089820</td>\n",
              "    </tr>\n",
              "  </tbody>\n",
              "</table>\n",
              "<p>5 rows × 71 columns</p>\n",
              "</div>\n",
              "      <button class=\"colab-df-convert\" onclick=\"convertToInteractive('df-178fb103-e82c-4937-90cb-07f3b97e10dc')\"\n",
              "              title=\"Convert this dataframe to an interactive table.\"\n",
              "              style=\"display:none;\">\n",
              "        \n",
              "  <svg xmlns=\"http://www.w3.org/2000/svg\" height=\"24px\"viewBox=\"0 0 24 24\"\n",
              "       width=\"24px\">\n",
              "    <path d=\"M0 0h24v24H0V0z\" fill=\"none\"/>\n",
              "    <path d=\"M18.56 5.44l.94 2.06.94-2.06 2.06-.94-2.06-.94-.94-2.06-.94 2.06-2.06.94zm-11 1L8.5 8.5l.94-2.06 2.06-.94-2.06-.94L8.5 2.5l-.94 2.06-2.06.94zm10 10l.94 2.06.94-2.06 2.06-.94-2.06-.94-.94-2.06-.94 2.06-2.06.94z\"/><path d=\"M17.41 7.96l-1.37-1.37c-.4-.4-.92-.59-1.43-.59-.52 0-1.04.2-1.43.59L10.3 9.45l-7.72 7.72c-.78.78-.78 2.05 0 2.83L4 21.41c.39.39.9.59 1.41.59.51 0 1.02-.2 1.41-.59l7.78-7.78 2.81-2.81c.8-.78.8-2.07 0-2.86zM5.41 20L4 18.59l7.72-7.72 1.47 1.35L5.41 20z\"/>\n",
              "  </svg>\n",
              "      </button>\n",
              "      \n",
              "  <style>\n",
              "    .colab-df-container {\n",
              "      display:flex;\n",
              "      flex-wrap:wrap;\n",
              "      gap: 12px;\n",
              "    }\n",
              "\n",
              "    .colab-df-convert {\n",
              "      background-color: #E8F0FE;\n",
              "      border: none;\n",
              "      border-radius: 50%;\n",
              "      cursor: pointer;\n",
              "      display: none;\n",
              "      fill: #1967D2;\n",
              "      height: 32px;\n",
              "      padding: 0 0 0 0;\n",
              "      width: 32px;\n",
              "    }\n",
              "\n",
              "    .colab-df-convert:hover {\n",
              "      background-color: #E2EBFA;\n",
              "      box-shadow: 0px 1px 2px rgba(60, 64, 67, 0.3), 0px 1px 3px 1px rgba(60, 64, 67, 0.15);\n",
              "      fill: #174EA6;\n",
              "    }\n",
              "\n",
              "    [theme=dark] .colab-df-convert {\n",
              "      background-color: #3B4455;\n",
              "      fill: #D2E3FC;\n",
              "    }\n",
              "\n",
              "    [theme=dark] .colab-df-convert:hover {\n",
              "      background-color: #434B5C;\n",
              "      box-shadow: 0px 1px 3px 1px rgba(0, 0, 0, 0.15);\n",
              "      filter: drop-shadow(0px 1px 2px rgba(0, 0, 0, 0.3));\n",
              "      fill: #FFFFFF;\n",
              "    }\n",
              "  </style>\n",
              "\n",
              "      <script>\n",
              "        const buttonEl =\n",
              "          document.querySelector('#df-178fb103-e82c-4937-90cb-07f3b97e10dc button.colab-df-convert');\n",
              "        buttonEl.style.display =\n",
              "          google.colab.kernel.accessAllowed ? 'block' : 'none';\n",
              "\n",
              "        async function convertToInteractive(key) {\n",
              "          const element = document.querySelector('#df-178fb103-e82c-4937-90cb-07f3b97e10dc');\n",
              "          const dataTable =\n",
              "            await google.colab.kernel.invokeFunction('convertToInteractive',\n",
              "                                                     [key], {});\n",
              "          if (!dataTable) return;\n",
              "\n",
              "          const docLinkHtml = 'Like what you see? Visit the ' +\n",
              "            '<a target=\"_blank\" href=https://colab.research.google.com/notebooks/data_table.ipynb>data table notebook</a>'\n",
              "            + ' to learn more about interactive tables.';\n",
              "          element.innerHTML = '';\n",
              "          dataTable['output_type'] = 'display_data';\n",
              "          await google.colab.output.renderOutput(dataTable, element);\n",
              "          const docLink = document.createElement('div');\n",
              "          docLink.innerHTML = docLinkHtml;\n",
              "          element.appendChild(docLink);\n",
              "        }\n",
              "      </script>\n",
              "    </div>\n",
              "  </div>\n",
              "  "
            ]
          },
          "metadata": {},
          "execution_count": 36
        }
      ]
    },
    {
      "cell_type": "code",
      "source": [
        "data.shape"
      ],
      "metadata": {
        "colab": {
          "base_uri": "https://localhost:8080/"
        },
        "id": "Ba_n-ErZLfVF",
        "outputId": "8f1e339a-06aa-49e3-b589-7940f3532d44"
      },
      "execution_count": null,
      "outputs": [
        {
          "output_type": "execute_result",
          "data": {
            "text/plain": [
              "(11136, 71)"
            ]
          },
          "metadata": {},
          "execution_count": 37
        }
      ]
    },
    {
      "cell_type": "code",
      "source": [
        "data.isnull().sum().sum()"
      ],
      "metadata": {
        "colab": {
          "base_uri": "https://localhost:8080/"
        },
        "id": "26_MaZowLiSo",
        "outputId": "be5a9150-03e4-4d41-caf0-1bc464e188fd"
      },
      "execution_count": null,
      "outputs": [
        {
          "output_type": "execute_result",
          "data": {
            "text/plain": [
              "257602"
            ]
          },
          "metadata": {},
          "execution_count": 38
        }
      ]
    },
    {
      "cell_type": "markdown",
      "source": [
        "HYPOTHESIS GENERATION"
      ],
      "metadata": {
        "id": "ZgBXJHtDscRl"
      }
    },
    {
      "cell_type": "markdown",
      "source": [
        "1. Temperature increases the particulate matter concentration. \n",
        "2. Humidity increases the particulate matter concentration. \n"
      ],
      "metadata": {
        "id": "F98EwOghssuT"
      }
    },
    {
      "cell_type": "code",
      "source": [
        "data.info()"
      ],
      "metadata": {
        "colab": {
          "base_uri": "https://localhost:8080/"
        },
        "id": "SJho1jCKNLNx",
        "outputId": "acb600b7-06b8-47fb-91e3-726ecac62943"
      },
      "execution_count": null,
      "outputs": [
        {
          "output_type": "stream",
          "name": "stdout",
          "text": [
            "<class 'pandas.core.frame.DataFrame'>\n",
            "RangeIndex: 11136 entries, 0 to 11135\n",
            "Data columns (total 71 columns):\n",
            " #   Column                                                    Non-Null Count  Dtype  \n",
            "---  ------                                                    --------------  -----  \n",
            " 0   ID                                                        11136 non-null  object \n",
            " 1   date                                                      11136 non-null  object \n",
            " 2   device                                                    11136 non-null  object \n",
            " 3   site_latitude                                             11136 non-null  float64\n",
            " 4   site_longitude                                            11136 non-null  float64\n",
            " 5   humidity                                                  11136 non-null  float64\n",
            " 6   temp_mean                                                 11115 non-null  float64\n",
            " 7   SulphurDioxide_SO2_column_number_density                  4835 non-null   float64\n",
            " 8   SulphurDioxide_SO2_column_number_density_amf              4835 non-null   float64\n",
            " 9   SulphurDioxide_SO2_slant_column_number_density            4835 non-null   float64\n",
            " 10  SulphurDioxide_cloud_fraction                             4835 non-null   float64\n",
            " 11  SulphurDioxide_sensor_azimuth_angle                       4835 non-null   float64\n",
            " 12  SulphurDioxide_sensor_zenith_angle                        4835 non-null   float64\n",
            " 13  SulphurDioxide_solar_azimuth_angle                        4835 non-null   float64\n",
            " 14  SulphurDioxide_solar_zenith_angle                         4835 non-null   float64\n",
            " 15  SulphurDioxide_SO2_column_number_density_15km             4835 non-null   float64\n",
            " 16  CarbonMonoxide_CO_column_number_density                   6151 non-null   float64\n",
            " 17  CarbonMonoxide_H2O_column_number_density                  6151 non-null   float64\n",
            " 18  CarbonMonoxide_cloud_height                               6151 non-null   float64\n",
            " 19  CarbonMonoxide_sensor_altitude                            6151 non-null   float64\n",
            " 20  CarbonMonoxide_sensor_azimuth_angle                       6151 non-null   float64\n",
            " 21  CarbonMonoxide_sensor_zenith_angle                        6151 non-null   float64\n",
            " 22  CarbonMonoxide_solar_azimuth_angle                        6151 non-null   float64\n",
            " 23  CarbonMonoxide_solar_zenith_angle                         6151 non-null   float64\n",
            " 24  NitrogenDioxide_NO2_column_number_density                 3383 non-null   float64\n",
            " 25  NitrogenDioxide_tropospheric_NO2_column_number_density    3383 non-null   float64\n",
            " 26  NitrogenDioxide_stratospheric_NO2_column_number_density   3383 non-null   float64\n",
            " 27  NitrogenDioxide_NO2_slant_column_number_density           3383 non-null   float64\n",
            " 28  NitrogenDioxide_tropopause_pressure                       3383 non-null   float64\n",
            " 29  NitrogenDioxide_absorbing_aerosol_index                   3383 non-null   float64\n",
            " 30  NitrogenDioxide_cloud_fraction                            3383 non-null   float64\n",
            " 31  NitrogenDioxide_sensor_altitude                           3383 non-null   float64\n",
            " 32  NitrogenDioxide_sensor_azimuth_angle                      3383 non-null   float64\n",
            " 33  NitrogenDioxide_sensor_zenith_angle                       3383 non-null   float64\n",
            " 34  NitrogenDioxide_solar_azimuth_angle                       3383 non-null   float64\n",
            " 35  NitrogenDioxide_solar_zenith_angle                        3383 non-null   float64\n",
            " 36  Formaldehyde_tropospheric_HCHO_column_number_density      5926 non-null   float64\n",
            " 37  Formaldehyde_tropospheric_HCHO_column_number_density_amf  5926 non-null   float64\n",
            " 38  Formaldehyde_HCHO_slant_column_number_density             5926 non-null   float64\n",
            " 39  Formaldehyde_cloud_fraction                               5926 non-null   float64\n",
            " 40  Formaldehyde_solar_zenith_angle                           5926 non-null   float64\n",
            " 41  Formaldehyde_solar_azimuth_angle                          5926 non-null   float64\n",
            " 42  Formaldehyde_sensor_zenith_angle                          5926 non-null   float64\n",
            " 43  Formaldehyde_sensor_azimuth_angle                         5926 non-null   float64\n",
            " 44  UvAerosolIndex_absorbing_aerosol_index                    10756 non-null  float64\n",
            " 45  UvAerosolIndex_sensor_altitude                            10756 non-null  float64\n",
            " 46  UvAerosolIndex_sensor_azimuth_angle                       10756 non-null  float64\n",
            " 47  UvAerosolIndex_sensor_zenith_angle                        10756 non-null  float64\n",
            " 48  UvAerosolIndex_solar_azimuth_angle                        10756 non-null  float64\n",
            " 49  UvAerosolIndex_solar_zenith_angle                         10755 non-null  float64\n",
            " 50  Ozone_O3_column_number_density                            10531 non-null  float64\n",
            " 51  Ozone_O3_column_number_density_amf                        10531 non-null  float64\n",
            " 52  Ozone_O3_slant_column_number_density                      10531 non-null  float64\n",
            " 53  Ozone_O3_effective_temperature                            10531 non-null  float64\n",
            " 54  Ozone_cloud_fraction                                      10531 non-null  float64\n",
            " 55  Ozone_sensor_azimuth_angle                                10531 non-null  float64\n",
            " 56  Ozone_sensor_zenith_angle                                 10531 non-null  float64\n",
            " 57  Ozone_solar_azimuth_angle                                 10531 non-null  float64\n",
            " 58  Ozone_solar_zenith_angle                                  10531 non-null  float64\n",
            " 59  Cloud_cloud_fraction                                      9450 non-null   float64\n",
            " 60  Cloud_cloud_top_pressure                                  9450 non-null   float64\n",
            " 61  Cloud_cloud_top_height                                    9450 non-null   float64\n",
            " 62  Cloud_cloud_base_pressure                                 9450 non-null   float64\n",
            " 63  Cloud_cloud_base_height                                   9450 non-null   float64\n",
            " 64  Cloud_cloud_optical_depth                                 9450 non-null   float64\n",
            " 65  Cloud_surface_albedo                                      9450 non-null   float64\n",
            " 66  Cloud_sensor_azimuth_angle                                9450 non-null   float64\n",
            " 67  Cloud_sensor_zenith_angle                                 9450 non-null   float64\n",
            " 68  Cloud_solar_azimuth_angle                                 9449 non-null   float64\n",
            " 69  Cloud_solar_zenith_angle                                  9449 non-null   float64\n",
            " 70  pm2_5                                                     11134 non-null  float64\n",
            "dtypes: float64(68), object(3)\n",
            "memory usage: 6.0+ MB\n"
          ]
        }
      ]
    },
    {
      "cell_type": "markdown",
      "source": [
        "## Exploratory Data Analysis"
      ],
      "metadata": {
        "id": "SJDWJTizyiq0"
      }
    },
    {
      "cell_type": "code",
      "source": [
        "#Distribution of Humidity\n",
        "\n",
        "plt.figure(figsize=(16, 6))\n",
        "data.humidity.hist() \n",
        "plt.xlabel('Humidity')  \n",
        "plt.title('Distribution of Humidity') \n",
        "plt.show()"
      ],
      "metadata": {
        "id": "cIjJOdiSNMZQ",
        "colab": {
          "base_uri": "https://localhost:8080/",
          "height": 404
        },
        "outputId": "6a550d49-c2d0-4721-a544-9f4d09359668"
      },
      "execution_count": null,
      "outputs": [
        {
          "output_type": "display_data",
          "data": {
            "text/plain": [
              "<Figure size 1152x432 with 1 Axes>"
            ],
            "image/png": "[encoded data removed]"
          },
          "metadata": {
            "needs_background": "light"
          }
        }
      ]
    },
    {
      "cell_type": "markdown",
      "source": [
        "Most areas in which the data was collected were humid."
      ],
      "metadata": {
        "id": "Gy7Gn9YezxWy"
      }
    },
    {
      "cell_type": "code",
      "source": [
        "#Distribution of Temperature\n",
        "\n",
        "plt.figure(figsize=(16, 6))\n",
        "data.temp_mean.hist() \n",
        "plt.xlabel('Temperature')  \n",
        "plt.title('Distribution of Temperature') \n",
        "plt.show()"
      ],
      "metadata": {
        "colab": {
          "base_uri": "https://localhost:8080/",
          "height": 404
        },
        "id": "MBtPbftp-b7U",
        "outputId": "c85d24ad-9017-44c7-8874-649e59f9a2c0"
      },
      "execution_count": null,
      "outputs": [
        {
          "output_type": "display_data",
          "data": {
            "text/plain": [
              "<Figure size 1152x432 with 1 Axes>"
            ],
            "image/png": "[encoded data removed]"
          },
          "metadata": {
            "needs_background": "light"
          }
        }
      ]
    },
    {
      "cell_type": "markdown",
      "source": [
        "Most values of Temperature in our data set were between 20 and 25 degrees."
      ],
      "metadata": {
        "id": "9fbX6B4OxoX2"
      }
    },
    {
      "cell_type": "code",
      "source": [
        "data.groupby('date')['pm2_5'].mean().plot() \n",
        "plt.xticks( \n",
        "    rotation = 90\n",
        ") \n",
        "plt.xlabel('Date') \n",
        "plt.ylabel('Particulate Matter Concentration') \n",
        "plt.title('Particulate Matter Concentration Against Date') "
      ],
      "metadata": {
        "colab": {
          "base_uri": "https://localhost:8080/",
          "height": 360
        },
        "id": "fvker5G2AVpw",
        "outputId": "ec44879e-81dc-4d9c-b54e-87434548a7a2"
      },
      "execution_count": null,
      "outputs": [
        {
          "output_type": "execute_result",
          "data": {
            "text/plain": [
              "Text(0.5, 1.0, 'Particulate Matter Concentration Against Date')"
            ]
          },
          "metadata": {},
          "execution_count": 42
        },
        {
          "output_type": "display_data",
          "data": {
            "text/plain": [
              "<Figure size 432x288 with 1 Axes>"
            ],
            "image/png": "[encoded data removed]"
          },
          "metadata": {
            "needs_background": "light"
          }
        }
      ]
    },
    {
      "cell_type": "markdown",
      "source": [
        "In 2020, the particulate matter concentration was the highest."
      ],
      "metadata": {
        "id": "O6x2r6EDxVv_"
      }
    },
    {
      "cell_type": "code",
      "source": [
        "data.groupby('temp_mean')['pm2_5'].mean().plot() \n",
        "plt.xticks( \n",
        "    rotation = 90\n",
        ") \n",
        "plt.xlabel('Temperature') \n",
        "plt.ylabel('Particulate Matter Concentration')  \n",
        "plt.title('Particulate Matter Concentration Against Temperature') \n",
        "plt.show()"
      ],
      "metadata": {
        "colab": {
          "base_uri": "https://localhost:8080/",
          "height": 298
        },
        "id": "Kdt5CLHTBCMm",
        "outputId": "89148eee-3278-454e-c412-5fd6a38749b6"
      },
      "execution_count": null,
      "outputs": [
        {
          "output_type": "display_data",
          "data": {
            "text/plain": [
              "<Figure size 432x288 with 1 Axes>"
            ],
            "image/png": "[encoded data removed]"
          },
          "metadata": {
            "needs_background": "light"
          }
        }
      ]
    },
    {
      "cell_type": "markdown",
      "source": [
        "Particulate Matter Concentration is the highest at room temperature as seen above."
      ],
      "metadata": {
        "id": "39idX5qJxz98"
      }
    },
    {
      "cell_type": "code",
      "source": [
        "data.groupby('humidity')['pm2_5'].mean().plot() \n",
        "plt.xticks( \n",
        "    rotation = 90\n",
        ") \n",
        "plt.xlabel('humidity') \n",
        "plt.ylabel('Particulate Matter Concentration')  \n",
        "plt.title('Particulate Matter Concentration Against Humidity') \n",
        "plt.show()"
      ],
      "metadata": {
        "colab": {
          "base_uri": "https://localhost:8080/",
          "height": 301
        },
        "id": "ur5uXx4yyH36",
        "outputId": "c0ae5ba3-1a42-480d-b83b-d67fd4609760"
      },
      "execution_count": null,
      "outputs": [
        {
          "output_type": "display_data",
          "data": {
            "text/plain": [
              "<Figure size 432x288 with 1 Axes>"
            ],
            "image/png": "[encoded data removed]"
          },
          "metadata": {
            "needs_background": "light"
          }
        }
      ]
    },
    {
      "cell_type": "markdown",
      "source": [
        "Particulate matter Concentration is the highest during high humidity, meaning the air is very saturated."
      ],
      "metadata": {
        "id": "ptmbK9dhyQnd"
      }
    },
    {
      "cell_type": "code",
      "source": [
        "data.groupby('site_latitude')['pm2_5'].mean().plot() \n",
        "plt.xticks( \n",
        "    rotation = 90\n",
        ") \n",
        "plt.xlabel('Latitude') \n",
        "plt.ylabel('Particulate Matter Concentration')  \n",
        "plt.title('Particulate Matter Concentration Against Latitude') \n",
        "plt.show()"
      ],
      "metadata": {
        "colab": {
          "base_uri": "https://localhost:8080/",
          "height": 316
        },
        "id": "PPp_FkouCLLG",
        "outputId": "ee612f56-3a2a-46fd-d338-c61ae5600eb3"
      },
      "execution_count": null,
      "outputs": [
        {
          "output_type": "display_data",
          "data": {
            "text/plain": [
              "<Figure size 432x288 with 1 Axes>"
            ],
            "image/png": "[encoded data removed]"
          },
          "metadata": {
            "needs_background": "light"
          }
        }
      ]
    },
    {
      "cell_type": "markdown",
      "source": [
        "Particulate matter concentration decreases linearly as it approaches the equator. "
      ],
      "metadata": {
        "id": "G6Qs7we5tLvw"
      }
    },
    {
      "cell_type": "code",
      "source": [
        "data.groupby('site_longitude')['pm2_5'].mean().plot() \n",
        "plt.xticks( \n",
        "    rotation = 90\n",
        ") \n",
        "plt.xlabel('Longitude') \n",
        "plt.ylabel('Particulate Matter Concentration')  \n",
        "plt.title('Particulate Matter Concentration Against Longitude') \n",
        "plt.show()"
      ],
      "metadata": {
        "colab": {
          "base_uri": "https://localhost:8080/",
          "height": 308
        },
        "id": "qb4ki-VfDOGd",
        "outputId": "5c7a98d0-3fea-4462-f42a-f002436c558b"
      },
      "execution_count": null,
      "outputs": [
        {
          "output_type": "display_data",
          "data": {
            "text/plain": [
              "<Figure size 432x288 with 1 Axes>"
            ],
            "image/png": "[encoded data removed]"
          },
          "metadata": {
            "needs_background": "light"
          }
        }
      ]
    },
    {
      "cell_type": "markdown",
      "source": [
        "The particulate matter concentration exhibits a linear relationship between 30 and 32.5 degrees longitude"
      ],
      "metadata": {
        "id": "UtJuAxkWwy88"
      }
    },
    {
      "cell_type": "markdown",
      "source": [
        "# Feature Engineering and Selection"
      ],
      "metadata": {
        "id": "pU0ipRmLyc_w"
      }
    },
    {
      "cell_type": "code",
      "source": [
        "#get info about the data\n",
        "data.info()"
      ],
      "metadata": {
        "colab": {
          "base_uri": "https://localhost:8080/"
        },
        "id": "njkTc1JTMgSo",
        "outputId": "d22cf2a5-4f7a-44b9-e45f-d619ca13b855"
      },
      "execution_count": null,
      "outputs": [
        {
          "output_type": "stream",
          "name": "stdout",
          "text": [
            "<class 'pandas.core.frame.DataFrame'>\n",
            "RangeIndex: 11136 entries, 0 to 11135\n",
            "Data columns (total 71 columns):\n",
            " #   Column                                                    Non-Null Count  Dtype  \n",
            "---  ------                                                    --------------  -----  \n",
            " 0   ID                                                        11136 non-null  object \n",
            " 1   date                                                      11136 non-null  object \n",
            " 2   device                                                    11136 non-null  object \n",
            " 3   site_latitude                                             11136 non-null  float64\n",
            " 4   site_longitude                                            11136 non-null  float64\n",
            " 5   humidity                                                  11136 non-null  float64\n",
            " 6   temp_mean                                                 11115 non-null  float64\n",
            " 7   SulphurDioxide_SO2_column_number_density                  4835 non-null   float64\n",
            " 8   SulphurDioxide_SO2_column_number_density_amf              4835 non-null   float64\n",
            " 9   SulphurDioxide_SO2_slant_column_number_density            4835 non-null   float64\n",
            " 10  SulphurDioxide_cloud_fraction                             4835 non-null   float64\n",
            " 11  SulphurDioxide_sensor_azimuth_angle                       4835 non-null   float64\n",
            " 12  SulphurDioxide_sensor_zenith_angle                        4835 non-null   float64\n",
            " 13  SulphurDioxide_solar_azimuth_angle                        4835 non-null   float64\n",
            " 14  SulphurDioxide_solar_zenith_angle                         4835 non-null   float64\n",
            " 15  SulphurDioxide_SO2_column_number_density_15km             4835 non-null   float64\n",
            " 16  CarbonMonoxide_CO_column_number_density                   6151 non-null   float64\n",
            " 17  CarbonMonoxide_H2O_column_number_density                  6151 non-null   float64\n",
            " 18  CarbonMonoxide_cloud_height                               6151 non-null   float64\n",
            " 19  CarbonMonoxide_sensor_altitude                            6151 non-null   float64\n",
            " 20  CarbonMonoxide_sensor_azimuth_angle                       6151 non-null   float64\n",
            " 21  CarbonMonoxide_sensor_zenith_angle                        6151 non-null   float64\n",
            " 22  CarbonMonoxide_solar_azimuth_angle                        6151 non-null   float64\n",
            " 23  CarbonMonoxide_solar_zenith_angle                         6151 non-null   float64\n",
            " 24  NitrogenDioxide_NO2_column_number_density                 3383 non-null   float64\n",
            " 25  NitrogenDioxide_tropospheric_NO2_column_number_density    3383 non-null   float64\n",
            " 26  NitrogenDioxide_stratospheric_NO2_column_number_density   3383 non-null   float64\n",
            " 27  NitrogenDioxide_NO2_slant_column_number_density           3383 non-null   float64\n",
            " 28  NitrogenDioxide_tropopause_pressure                       3383 non-null   float64\n",
            " 29  NitrogenDioxide_absorbing_aerosol_index                   3383 non-null   float64\n",
            " 30  NitrogenDioxide_cloud_fraction                            3383 non-null   float64\n",
            " 31  NitrogenDioxide_sensor_altitude                           3383 non-null   float64\n",
            " 32  NitrogenDioxide_sensor_azimuth_angle                      3383 non-null   float64\n",
            " 33  NitrogenDioxide_sensor_zenith_angle                       3383 non-null   float64\n",
            " 34  NitrogenDioxide_solar_azimuth_angle                       3383 non-null   float64\n",
            " 35  NitrogenDioxide_solar_zenith_angle                        3383 non-null   float64\n",
            " 36  Formaldehyde_tropospheric_HCHO_column_number_density      5926 non-null   float64\n",
            " 37  Formaldehyde_tropospheric_HCHO_column_number_density_amf  5926 non-null   float64\n",
            " 38  Formaldehyde_HCHO_slant_column_number_density             5926 non-null   float64\n",
            " 39  Formaldehyde_cloud_fraction                               5926 non-null   float64\n",
            " 40  Formaldehyde_solar_zenith_angle                           5926 non-null   float64\n",
            " 41  Formaldehyde_solar_azimuth_angle                          5926 non-null   float64\n",
            " 42  Formaldehyde_sensor_zenith_angle                          5926 non-null   float64\n",
            " 43  Formaldehyde_sensor_azimuth_angle                         5926 non-null   float64\n",
            " 44  UvAerosolIndex_absorbing_aerosol_index                    10756 non-null  float64\n",
            " 45  UvAerosolIndex_sensor_altitude                            10756 non-null  float64\n",
            " 46  UvAerosolIndex_sensor_azimuth_angle                       10756 non-null  float64\n",
            " 47  UvAerosolIndex_sensor_zenith_angle                        10756 non-null  float64\n",
            " 48  UvAerosolIndex_solar_azimuth_angle                        10756 non-null  float64\n",
            " 49  UvAerosolIndex_solar_zenith_angle                         10755 non-null  float64\n",
            " 50  Ozone_O3_column_number_density                            10531 non-null  float64\n",
            " 51  Ozone_O3_column_number_density_amf                        10531 non-null  float64\n",
            " 52  Ozone_O3_slant_column_number_density                      10531 non-null  float64\n",
            " 53  Ozone_O3_effective_temperature                            10531 non-null  float64\n",
            " 54  Ozone_cloud_fraction                                      10531 non-null  float64\n",
            " 55  Ozone_sensor_azimuth_angle                                10531 non-null  float64\n",
            " 56  Ozone_sensor_zenith_angle                                 10531 non-null  float64\n",
            " 57  Ozone_solar_azimuth_angle                                 10531 non-null  float64\n",
            " 58  Ozone_solar_zenith_angle                                  10531 non-null  float64\n",
            " 59  Cloud_cloud_fraction                                      9450 non-null   float64\n",
            " 60  Cloud_cloud_top_pressure                                  9450 non-null   float64\n",
            " 61  Cloud_cloud_top_height                                    9450 non-null   float64\n",
            " 62  Cloud_cloud_base_pressure                                 9450 non-null   float64\n",
            " 63  Cloud_cloud_base_height                                   9450 non-null   float64\n",
            " 64  Cloud_cloud_optical_depth                                 9450 non-null   float64\n",
            " 65  Cloud_surface_albedo                                      9450 non-null   float64\n",
            " 66  Cloud_sensor_azimuth_angle                                9450 non-null   float64\n",
            " 67  Cloud_sensor_zenith_angle                                 9450 non-null   float64\n",
            " 68  Cloud_solar_azimuth_angle                                 9449 non-null   float64\n",
            " 69  Cloud_solar_zenith_angle                                  9449 non-null   float64\n",
            " 70  pm2_5                                                     11134 non-null  float64\n",
            "dtypes: float64(68), object(3)\n",
            "memory usage: 6.0+ MB\n"
          ]
        }
      ]
    },
    {
      "cell_type": "code",
      "source": [
        "#Check the shape before dropping\n",
        "data.shape"
      ],
      "metadata": {
        "colab": {
          "base_uri": "https://localhost:8080/"
        },
        "id": "MN30YW78MiwG",
        "outputId": "244f75e8-b63f-4cb5-cef2-288428763670"
      },
      "execution_count": null,
      "outputs": [
        {
          "output_type": "execute_result",
          "data": {
            "text/plain": [
              "(11136, 71)"
            ]
          },
          "metadata": {},
          "execution_count": 48
        }
      ]
    },
    {
      "cell_type": "code",
      "source": [
        "#Drop columns with atleast s\n",
        "data.dropna(axis='columns',thresh=4455,inplace=True)"
      ],
      "metadata": {
        "id": "JVwyFlgT1y1n"
      },
      "execution_count": null,
      "outputs": []
    },
    {
      "cell_type": "code",
      "source": [
        "data.shape"
      ],
      "metadata": {
        "colab": {
          "base_uri": "https://localhost:8080/"
        },
        "id": "N_pXZyOqMd6z",
        "outputId": "9e16972c-3826-4e8e-b899-df6065d7a14d"
      },
      "execution_count": null,
      "outputs": [
        {
          "output_type": "execute_result",
          "data": {
            "text/plain": [
              "(11136, 59)"
            ]
          },
          "metadata": {},
          "execution_count": 50
        }
      ]
    },
    {
      "cell_type": "code",
      "source": [
        "data.info()"
      ],
      "metadata": {
        "colab": {
          "base_uri": "https://localhost:8080/"
        },
        "id": "wq9Zw0EfMrgV",
        "outputId": "616c6c97-9e82-4b7e-ce06-ae3d8685001d"
      },
      "execution_count": null,
      "outputs": [
        {
          "output_type": "stream",
          "name": "stdout",
          "text": [
            "<class 'pandas.core.frame.DataFrame'>\n",
            "RangeIndex: 11136 entries, 0 to 11135\n",
            "Data columns (total 59 columns):\n",
            " #   Column                                                    Non-Null Count  Dtype  \n",
            "---  ------                                                    --------------  -----  \n",
            " 0   ID                                                        11136 non-null  object \n",
            " 1   date                                                      11136 non-null  object \n",
            " 2   device                                                    11136 non-null  object \n",
            " 3   site_latitude                                             11136 non-null  float64\n",
            " 4   site_longitude                                            11136 non-null  float64\n",
            " 5   humidity                                                  11136 non-null  float64\n",
            " 6   temp_mean                                                 11115 non-null  float64\n",
            " 7   SulphurDioxide_SO2_column_number_density                  4835 non-null   float64\n",
            " 8   SulphurDioxide_SO2_column_number_density_amf              4835 non-null   float64\n",
            " 9   SulphurDioxide_SO2_slant_column_number_density            4835 non-null   float64\n",
            " 10  SulphurDioxide_cloud_fraction                             4835 non-null   float64\n",
            " 11  SulphurDioxide_sensor_azimuth_angle                       4835 non-null   float64\n",
            " 12  SulphurDioxide_sensor_zenith_angle                        4835 non-null   float64\n",
            " 13  SulphurDioxide_solar_azimuth_angle                        4835 non-null   float64\n",
            " 14  SulphurDioxide_solar_zenith_angle                         4835 non-null   float64\n",
            " 15  SulphurDioxide_SO2_column_number_density_15km             4835 non-null   float64\n",
            " 16  CarbonMonoxide_CO_column_number_density                   6151 non-null   float64\n",
            " 17  CarbonMonoxide_H2O_column_number_density                  6151 non-null   float64\n",
            " 18  CarbonMonoxide_cloud_height                               6151 non-null   float64\n",
            " 19  CarbonMonoxide_sensor_altitude                            6151 non-null   float64\n",
            " 20  CarbonMonoxide_sensor_azimuth_angle                       6151 non-null   float64\n",
            " 21  CarbonMonoxide_sensor_zenith_angle                        6151 non-null   float64\n",
            " 22  CarbonMonoxide_solar_azimuth_angle                        6151 non-null   float64\n",
            " 23  CarbonMonoxide_solar_zenith_angle                         6151 non-null   float64\n",
            " 24  Formaldehyde_tropospheric_HCHO_column_number_density      5926 non-null   float64\n",
            " 25  Formaldehyde_tropospheric_HCHO_column_number_density_amf  5926 non-null   float64\n",
            " 26  Formaldehyde_HCHO_slant_column_number_density             5926 non-null   float64\n",
            " 27  Formaldehyde_cloud_fraction                               5926 non-null   float64\n",
            " 28  Formaldehyde_solar_zenith_angle                           5926 non-null   float64\n",
            " 29  Formaldehyde_solar_azimuth_angle                          5926 non-null   float64\n",
            " 30  Formaldehyde_sensor_zenith_angle                          5926 non-null   float64\n",
            " 31  Formaldehyde_sensor_azimuth_angle                         5926 non-null   float64\n",
            " 32  UvAerosolIndex_absorbing_aerosol_index                    10756 non-null  float64\n",
            " 33  UvAerosolIndex_sensor_altitude                            10756 non-null  float64\n",
            " 34  UvAerosolIndex_sensor_azimuth_angle                       10756 non-null  float64\n",
            " 35  UvAerosolIndex_sensor_zenith_angle                        10756 non-null  float64\n",
            " 36  UvAerosolIndex_solar_azimuth_angle                        10756 non-null  float64\n",
            " 37  UvAerosolIndex_solar_zenith_angle                         10755 non-null  float64\n",
            " 38  Ozone_O3_column_number_density                            10531 non-null  float64\n",
            " 39  Ozone_O3_column_number_density_amf                        10531 non-null  float64\n",
            " 40  Ozone_O3_slant_column_number_density                      10531 non-null  float64\n",
            " 41  Ozone_O3_effective_temperature                            10531 non-null  float64\n",
            " 42  Ozone_cloud_fraction                                      10531 non-null  float64\n",
            " 43  Ozone_sensor_azimuth_angle                                10531 non-null  float64\n",
            " 44  Ozone_sensor_zenith_angle                                 10531 non-null  float64\n",
            " 45  Ozone_solar_azimuth_angle                                 10531 non-null  float64\n",
            " 46  Ozone_solar_zenith_angle                                  10531 non-null  float64\n",
            " 47  Cloud_cloud_fraction                                      9450 non-null   float64\n",
            " 48  Cloud_cloud_top_pressure                                  9450 non-null   float64\n",
            " 49  Cloud_cloud_top_height                                    9450 non-null   float64\n",
            " 50  Cloud_cloud_base_pressure                                 9450 non-null   float64\n",
            " 51  Cloud_cloud_base_height                                   9450 non-null   float64\n",
            " 52  Cloud_cloud_optical_depth                                 9450 non-null   float64\n",
            " 53  Cloud_surface_albedo                                      9450 non-null   float64\n",
            " 54  Cloud_sensor_azimuth_angle                                9450 non-null   float64\n",
            " 55  Cloud_sensor_zenith_angle                                 9450 non-null   float64\n",
            " 56  Cloud_solar_azimuth_angle                                 9449 non-null   float64\n",
            " 57  Cloud_solar_zenith_angle                                  9449 non-null   float64\n",
            " 58  pm2_5                                                     11134 non-null  float64\n",
            "dtypes: float64(56), object(3)\n",
            "memory usage: 5.0+ MB\n"
          ]
        }
      ]
    },
    {
      "cell_type": "code",
      "source": [
        "#fill missing values with mean\n",
        "for col in data.columns: \n",
        "  if data[col].isnull().sum().sum() > 0 : \n",
        "    data[col].fillna(data[col].mean(), inplace = True) "
      ],
      "metadata": {
        "id": "LIFo6XAmOX-o"
      },
      "execution_count": null,
      "outputs": []
    },
    {
      "cell_type": "code",
      "source": [
        "#Check Null Values\n",
        "data.isnull().sum().sum()"
      ],
      "metadata": {
        "colab": {
          "base_uri": "https://localhost:8080/"
        },
        "id": "3EN8HqKpPh-W",
        "outputId": "da4ef7f3-f237-42d4-ebb7-ccbd8786c861"
      },
      "execution_count": null,
      "outputs": [
        {
          "output_type": "execute_result",
          "data": {
            "text/plain": [
              "0"
            ]
          },
          "metadata": {},
          "execution_count": 54
        }
      ]
    },
    {
      "cell_type": "code",
      "source": [
        "#Drop object columns\n",
        "for col in data.columns:\n",
        "  if data[col].dtype == 'object': \n",
        "    data = data.drop(col, axis = 1)"
      ],
      "metadata": {
        "id": "hy7VBJWiPmtm"
      },
      "execution_count": null,
      "outputs": []
    },
    {
      "cell_type": "code",
      "source": [
        "#check shape\n",
        "data.shape"
      ],
      "metadata": {
        "colab": {
          "base_uri": "https://localhost:8080/"
        },
        "id": "rTNsPhyFQNr3",
        "outputId": "826a16f3-5e12-402c-e7c9-16e039dff36b"
      },
      "execution_count": null,
      "outputs": [
        {
          "output_type": "execute_result",
          "data": {
            "text/plain": [
              "(11136, 56)"
            ]
          },
          "metadata": {},
          "execution_count": 57
        }
      ]
    },
    {
      "cell_type": "code",
      "source": [
        "#Check contents of data set \n",
        "data.info()"
      ],
      "metadata": {
        "colab": {
          "base_uri": "https://localhost:8080/"
        },
        "id": "Or5P5X66QXOQ",
        "outputId": "52fab180-a155-4dfd-ee2b-c36d0e3b4c2a"
      },
      "execution_count": null,
      "outputs": [
        {
          "output_type": "stream",
          "name": "stdout",
          "text": [
            "<class 'pandas.core.frame.DataFrame'>\n",
            "RangeIndex: 11136 entries, 0 to 11135\n",
            "Data columns (total 56 columns):\n",
            " #   Column                                                    Non-Null Count  Dtype  \n",
            "---  ------                                                    --------------  -----  \n",
            " 0   site_latitude                                             11136 non-null  float64\n",
            " 1   site_longitude                                            11136 non-null  float64\n",
            " 2   humidity                                                  11136 non-null  float64\n",
            " 3   temp_mean                                                 11136 non-null  float64\n",
            " 4   SulphurDioxide_SO2_column_number_density                  11136 non-null  float64\n",
            " 5   SulphurDioxide_SO2_column_number_density_amf              11136 non-null  float64\n",
            " 6   SulphurDioxide_SO2_slant_column_number_density            11136 non-null  float64\n",
            " 7   SulphurDioxide_cloud_fraction                             11136 non-null  float64\n",
            " 8   SulphurDioxide_sensor_azimuth_angle                       11136 non-null  float64\n",
            " 9   SulphurDioxide_sensor_zenith_angle                        11136 non-null  float64\n",
            " 10  SulphurDioxide_solar_azimuth_angle                        11136 non-null  float64\n",
            " 11  SulphurDioxide_solar_zenith_angle                         11136 non-null  float64\n",
            " 12  SulphurDioxide_SO2_column_number_density_15km             11136 non-null  float64\n",
            " 13  CarbonMonoxide_CO_column_number_density                   11136 non-null  float64\n",
            " 14  CarbonMonoxide_H2O_column_number_density                  11136 non-null  float64\n",
            " 15  CarbonMonoxide_cloud_height                               11136 non-null  float64\n",
            " 16  CarbonMonoxide_sensor_altitude                            11136 non-null  float64\n",
            " 17  CarbonMonoxide_sensor_azimuth_angle                       11136 non-null  float64\n",
            " 18  CarbonMonoxide_sensor_zenith_angle                        11136 non-null  float64\n",
            " 19  CarbonMonoxide_solar_azimuth_angle                        11136 non-null  float64\n",
            " 20  CarbonMonoxide_solar_zenith_angle                         11136 non-null  float64\n",
            " 21  Formaldehyde_tropospheric_HCHO_column_number_density      11136 non-null  float64\n",
            " 22  Formaldehyde_tropospheric_HCHO_column_number_density_amf  11136 non-null  float64\n",
            " 23  Formaldehyde_HCHO_slant_column_number_density             11136 non-null  float64\n",
            " 24  Formaldehyde_cloud_fraction                               11136 non-null  float64\n",
            " 25  Formaldehyde_solar_zenith_angle                           11136 non-null  float64\n",
            " 26  Formaldehyde_solar_azimuth_angle                          11136 non-null  float64\n",
            " 27  Formaldehyde_sensor_zenith_angle                          11136 non-null  float64\n",
            " 28  Formaldehyde_sensor_azimuth_angle                         11136 non-null  float64\n",
            " 29  UvAerosolIndex_absorbing_aerosol_index                    11136 non-null  float64\n",
            " 30  UvAerosolIndex_sensor_altitude                            11136 non-null  float64\n",
            " 31  UvAerosolIndex_sensor_azimuth_angle                       11136 non-null  float64\n",
            " 32  UvAerosolIndex_sensor_zenith_angle                        11136 non-null  float64\n",
            " 33  UvAerosolIndex_solar_azimuth_angle                        11136 non-null  float64\n",
            " 34  UvAerosolIndex_solar_zenith_angle                         11136 non-null  float64\n",
            " 35  Ozone_O3_column_number_density                            11136 non-null  float64\n",
            " 36  Ozone_O3_column_number_density_amf                        11136 non-null  float64\n",
            " 37  Ozone_O3_slant_column_number_density                      11136 non-null  float64\n",
            " 38  Ozone_O3_effective_temperature                            11136 non-null  float64\n",
            " 39  Ozone_cloud_fraction                                      11136 non-null  float64\n",
            " 40  Ozone_sensor_azimuth_angle                                11136 non-null  float64\n",
            " 41  Ozone_sensor_zenith_angle                                 11136 non-null  float64\n",
            " 42  Ozone_solar_azimuth_angle                                 11136 non-null  float64\n",
            " 43  Ozone_solar_zenith_angle                                  11136 non-null  float64\n",
            " 44  Cloud_cloud_fraction                                      11136 non-null  float64\n",
            " 45  Cloud_cloud_top_pressure                                  11136 non-null  float64\n",
            " 46  Cloud_cloud_top_height                                    11136 non-null  float64\n",
            " 47  Cloud_cloud_base_pressure                                 11136 non-null  float64\n",
            " 48  Cloud_cloud_base_height                                   11136 non-null  float64\n",
            " 49  Cloud_cloud_optical_depth                                 11136 non-null  float64\n",
            " 50  Cloud_surface_albedo                                      11136 non-null  float64\n",
            " 51  Cloud_sensor_azimuth_angle                                11136 non-null  float64\n",
            " 52  Cloud_sensor_zenith_angle                                 11136 non-null  float64\n",
            " 53  Cloud_solar_azimuth_angle                                 11136 non-null  float64\n",
            " 54  Cloud_solar_zenith_angle                                  11136 non-null  float64\n",
            " 55  pm2_5                                                     11136 non-null  float64\n",
            "dtypes: float64(56)\n",
            "memory usage: 4.8 MB\n"
          ]
        }
      ]
    },
    {
      "cell_type": "code",
      "source": [
        "#Create Features and Target\n",
        "target = data['pm2_5'] \n",
        "features = data.drop('pm2_5',axis =1)"
      ],
      "metadata": {
        "id": "gVBL4BFaQhqI"
      },
      "execution_count": null,
      "outputs": []
    },
    {
      "cell_type": "code",
      "source": [
        "#check shape\n",
        "features.shape"
      ],
      "metadata": {
        "colab": {
          "base_uri": "https://localhost:8080/"
        },
        "id": "pJ7iobc-Q7Pd",
        "outputId": "da30ed38-09ef-4637-d4a3-9b72d78a99d3"
      },
      "execution_count": null,
      "outputs": [
        {
          "output_type": "execute_result",
          "data": {
            "text/plain": [
              "(11136, 55)"
            ]
          },
          "metadata": {},
          "execution_count": 60
        }
      ]
    },
    {
      "cell_type": "code",
      "source": [
        "# import MinMaxScaler\n",
        "\n",
        "from sklearn.preprocessing import MinMaxScaler"
      ],
      "metadata": {
        "id": "m9rhoaM_RGnx"
      },
      "execution_count": null,
      "outputs": []
    },
    {
      "cell_type": "code",
      "source": [
        "# feature scalling by using minmaxscaler method \n",
        "scaler = MinMaxScaler(feature_range=(0, 1)) \n",
        "\n",
        "for col in features: \n",
        "  data[col] = scaler.fit_transform(data[col].values.reshape(-1,1))"
      ],
      "metadata": {
        "id": "q16HGFMcRS33"
      },
      "execution_count": null,
      "outputs": []
    },
    {
      "cell_type": "code",
      "source": [
        "print(data.head()) \n",
        "print(data.tail())"
      ],
      "metadata": {
        "colab": {
          "base_uri": "https://localhost:8080/"
        },
        "id": "4ogm_mzdRfRy",
        "outputId": "4dd9062d-95d8-439d-9368-90691bc3e819"
      },
      "execution_count": null,
      "outputs": [
        {
          "output_type": "stream",
          "name": "stdout",
          "text": [
            "   site_latitude  site_longitude  humidity  temp_mean  \\\n",
            "0       0.976771        0.930429  0.846844   0.741165   \n",
            "1       0.999550        0.938367  0.874493   0.724595   \n",
            "2       0.935393        0.936944  0.729340   0.792623   \n",
            "3       0.000000        0.000000  0.919271   0.549472   \n",
            "4       0.000000        0.000000  0.858365   0.558335   \n",
            "\n",
            "   SulphurDioxide_SO2_column_number_density  \\\n",
            "0                                  0.298563   \n",
            "1                                  0.355822   \n",
            "2                                  0.355822   \n",
            "3                                  0.307786   \n",
            "4                                  0.302200   \n",
            "\n",
            "   SulphurDioxide_SO2_column_number_density_amf  \\\n",
            "0                                      0.541242   \n",
            "1                                      0.346473   \n",
            "2                                      0.346473   \n",
            "3                                      0.314098   \n",
            "4                                      0.347040   \n",
            "\n",
            "   SulphurDioxide_SO2_slant_column_number_density  \\\n",
            "0                                        0.169229   \n",
            "1                                        0.220128   \n",
            "2                                        0.220128   \n",
            "3                                        0.188677   \n",
            "4                                        0.182940   \n",
            "\n",
            "   SulphurDioxide_cloud_fraction  SulphurDioxide_sensor_azimuth_angle  \\\n",
            "0                       0.971714                             0.957219   \n",
            "1                       0.491524                             0.463069   \n",
            "2                       0.491524                             0.463069   \n",
            "3                       0.000000                             0.952992   \n",
            "4                       0.291284                             0.947728   \n",
            "\n",
            "   SulphurDioxide_sensor_zenith_angle  ...  Cloud_cloud_top_height  \\\n",
            "0                            0.154002  ...                0.218894   \n",
            "1                            0.573635  ...                0.373767   \n",
            "2                            0.573635  ...                0.237565   \n",
            "3                            0.313906  ...                0.373767   \n",
            "4                            0.492503  ...                0.266567   \n",
            "\n",
            "   Cloud_cloud_base_pressure  Cloud_cloud_base_height  \\\n",
            "0                   0.742565                 0.158106   \n",
            "1                   0.558595                 0.330498   \n",
            "2                   0.711979                 0.178231   \n",
            "3                   0.558595                 0.330498   \n",
            "4                   0.671260                 0.209489   \n",
            "\n",
            "   Cloud_cloud_optical_depth  Cloud_surface_albedo  \\\n",
            "0                   0.026330              0.269054   \n",
            "1                   0.066659              0.259658   \n",
            "2                   0.246216              0.409311   \n",
            "3                   0.066659              0.259658   \n",
            "4                   0.014958              0.268087   \n",
            "\n",
            "   Cloud_sensor_azimuth_angle  Cloud_sensor_zenith_angle  \\\n",
            "0                    0.957273                   0.149233   \n",
            "1                    0.465160                   0.614533   \n",
            "2                    0.049216                   0.961535   \n",
            "3                    0.465160                   0.614533   \n",
            "4                    0.947705                   0.491159   \n",
            "\n",
            "   Cloud_solar_azimuth_angle  Cloud_solar_zenith_angle      pm2_5  \n",
            "0                   0.481256                  0.322169  63.853333  \n",
            "1                   0.524305                  0.577090  32.507083  \n",
            "2                   0.232322                  0.966220  80.290833  \n",
            "3                   0.524305                  0.577090  42.601687  \n",
            "4                   0.737997                  0.401035  89.642229  \n",
            "\n",
            "[5 rows x 56 columns]\n",
            "       site_latitude  site_longitude  humidity  temp_mean  \\\n",
            "11131       0.948174        0.947882  0.736872   0.772355   \n",
            "11132       0.948854        0.963406  0.721721   0.893069   \n",
            "11133       0.970925        0.940165  0.810413   0.770662   \n",
            "11134       0.979535        0.939034  0.876437   0.714926   \n",
            "11135       0.943336        0.950216  0.868209   0.747884   \n",
            "\n",
            "       SulphurDioxide_SO2_column_number_density  \\\n",
            "11131                                  0.355822   \n",
            "11132                                  0.108640   \n",
            "11133                                  0.355822   \n",
            "11134                                  0.355822   \n",
            "11135                                  0.355822   \n",
            "\n",
            "       SulphurDioxide_SO2_column_number_density_amf  \\\n",
            "11131                                      0.346473   \n",
            "11132                                      0.053109   \n",
            "11133                                      0.346473   \n",
            "11134                                      0.346473   \n",
            "11135                                      0.346473   \n",
            "\n",
            "       SulphurDioxide_SO2_slant_column_number_density  \\\n",
            "11131                                        0.220128   \n",
            "11132                                        0.124331   \n",
            "11133                                        0.220128   \n",
            "11134                                        0.220128   \n",
            "11135                                        0.220128   \n",
            "\n",
            "       SulphurDioxide_cloud_fraction  SulphurDioxide_sensor_azimuth_angle  \\\n",
            "11131                       0.491524                             0.463069   \n",
            "11132                       0.833483                             0.044318   \n",
            "11133                       0.491524                             0.463069   \n",
            "11134                       0.491524                             0.463069   \n",
            "11135                       0.491524                             0.463069   \n",
            "\n",
            "       SulphurDioxide_sensor_zenith_angle  ...  Cloud_cloud_top_height  \\\n",
            "11131                            0.573635  ...                0.433641   \n",
            "11132                            0.970643  ...                0.874804   \n",
            "11133                            0.573635  ...                0.476871   \n",
            "11134                            0.573635  ...                0.375964   \n",
            "11135                            0.573635  ...                0.281303   \n",
            "\n",
            "       Cloud_cloud_base_pressure  Cloud_cloud_base_height  \\\n",
            "11131                   0.453726                 0.389566   \n",
            "11132                   0.072651                 0.865061   \n",
            "11133                   0.398330                 0.436160   \n",
            "11134                   0.517493                 0.327400   \n",
            "11135                   0.645427                 0.225373   \n",
            "\n",
            "       Cloud_cloud_optical_depth  Cloud_surface_albedo  \\\n",
            "11131                   0.008720              0.226265   \n",
            "11132                   0.035974              0.275063   \n",
            "11133                   0.017988              0.290701   \n",
            "11134                   0.194819              0.270372   \n",
            "11135                   0.046243              0.287046   \n",
            "\n",
            "       Cloud_sensor_azimuth_angle  Cloud_sensor_zenith_angle  \\\n",
            "11131                    0.937585                   0.767502   \n",
            "11132                    0.049361                   0.967568   \n",
            "11133                    0.044501                   0.807932   \n",
            "11134                    0.931252                   0.934120   \n",
            "11135                    0.036669                   0.562435   \n",
            "\n",
            "       Cloud_solar_azimuth_angle  Cloud_solar_zenith_angle      pm2_5  \n",
            "11131                   0.919719                  0.465268  69.690417  \n",
            "11132                   0.363961                  0.702746  47.470518  \n",
            "11133                   0.645583                  0.710431  43.237917  \n",
            "11134                   0.957994                  0.506530  25.599925  \n",
            "11135                   0.320661                  0.768655  27.089820  \n",
            "\n",
            "[5 rows x 56 columns]\n"
          ]
        }
      ]
    },
    {
      "cell_type": "markdown",
      "source": [
        "# Modelling"
      ],
      "metadata": {
        "id": "oV8zFNwg1poN"
      }
    },
    {
      "cell_type": "code",
      "source": [
        "#Create new variables for features and Target so as to get a better understanding\n",
        "X = features\n",
        "y = target"
      ],
      "metadata": {
        "id": "-WyxpFFX2ocG"
      },
      "execution_count": null,
      "outputs": []
    },
    {
      "cell_type": "code",
      "source": [
        "y"
      ],
      "metadata": {
        "colab": {
          "base_uri": "https://localhost:8080/"
        },
        "id": "qFyCJnssY6y9",
        "outputId": "97aebfea-9ced-4cf9-a2fd-c2b933526c08"
      },
      "execution_count": null,
      "outputs": [
        {
          "output_type": "execute_result",
          "data": {
            "text/plain": [
              "0        63.853333\n",
              "1        32.507083\n",
              "2        80.290833\n",
              "3        42.601687\n",
              "4        89.642229\n",
              "           ...    \n",
              "11131    69.690417\n",
              "11132    47.470518\n",
              "11133    43.237917\n",
              "11134    25.599925\n",
              "11135    27.089820\n",
              "Name: pm2_5, Length: 11136, dtype: float64"
            ]
          },
          "metadata": {},
          "execution_count": 70
        }
      ]
    },
    {
      "cell_type": "code",
      "source": [
        "# divide data into training and validation subsets  \n",
        "\n",
        "from sklearn.model_selection import train_test_split\n",
        "x_train, x_test, y_train, y_test = train_test_split(X, y, train_size=0.8, test_size=0.2, random_state=0)"
      ],
      "metadata": {
        "id": "lLd7tfGV2EzT"
      },
      "execution_count": null,
      "outputs": []
    },
    {
      "cell_type": "code",
      "source": [
        "#Import important Libraries\n",
        "from sklearn.ensemble import RandomForestRegressor\n",
        "from sklearn.metrics import mean_absolute_error  \n",
        "\n",
        "#Create a dumb model and \n",
        "model = RandomForestRegressor(n_estimators=120, random_state=0)\n",
        "model.fit(x_train, y_train)\n",
        "y_predict = model.predict(x_test)\n",
        "\n",
        "#Used Mean Absolute Error as told from the competition\n",
        "print(f'The mean absolute error : {mean_absolute_error(y_test,y_predict)}')"
      ],
      "metadata": {
        "colab": {
          "base_uri": "https://localhost:8080/"
        },
        "id": "qaPERPL81t45",
        "outputId": "f1372885-4d4f-4b09-fab8-463ab952610e"
      },
      "execution_count": null,
      "outputs": [
        {
          "output_type": "stream",
          "name": "stdout",
          "text": [
            "The mean absolute error : 10.094792650948264\n"
          ]
        }
      ]
    }
  ]
}